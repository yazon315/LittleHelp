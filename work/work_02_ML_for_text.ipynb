{
 "cells": [
  {
   "attachments": {},
   "cell_type": "markdown",
   "metadata": {},
   "source": [
    "## Машинное обучение для текстов\n",
    "\n",
    "**Термины и определения:**\n",
    "\n",
    "*Корпус* - набор текстов, в котором эмоции и ключевые слова уже размечены.\n",
    "\n",
    "*Регулярные выражения* - инструмент для поиска текстов и чисел по шаблону.\n",
    "\n",
    "*Сентимент-анализ* - анализ тональности текста (позитивный или негативный), выявляет эмоционально окрашенные слова.\n",
    "\n",
    "*Токенизация* - разбиение текста на токены: отдельные фразы, слова, символы.\n",
    "\n",
    "*Лемматизация* - приведение слова к начальной форме (лемме).\n",
    "\n",
    "*Векторизация* - перевод текстов в векторный формат. Близкие или похожие векторы могут отображать похожие слова. Сходство векторов рассчитывается евклидовым расстоянием: чем меньше расстояние, тем сильнее похожи векторы.\n",
    "\n",
    "**Этапы обработки текстов:**\n",
    "\n",
    "- Предобработка текста:\n",
    "  - токенизация;\n",
    "  - лемматизация;\n",
    "  - очистка от стоп-слов и ненужных символов (в том числе с помощью регулярных выражений);\n",
    "  - добавление маркеров начала и конца предложения.\n",
    "- Токенизация (с помощью моделей, обращающихся к словарям токенов)\n",
    "- Прогнозирование (с помощью моделей, например для сентимент-анализа)\n",
    "\n",
    "**Методы векторизации:**\n",
    "\n",
    "- *\"Мешок слов\"* - (англ. bag of words) модель, которая преобразует текст в вектор, не учитывая порядок слов.\n",
    "- *TF-IDF* - оценка важности слов путем подсчета количества их упоминаний в текстах и во всем корпусе.\n",
    "- *N-граммы* - последовательность из нескольких слов (N - количество слов в составе N-граммы: униграммы, биграммы, триграммы).\n",
    "- Embeddings - Смысл слов определяется их контекстом. Векторы-эмбеддинги содержат данные о соотношении разных слов и их свойствах.\n",
    "  - *Word2vec* - предсказывает соседи заданные слова или нет. Слова считаются соседями, если находятся в одном «окне» (максимальном расстоянии между словами). Пара слов — это признаки, а являются ли они соседями — это целевой признак. Задача word2vec — научить модель отличать истинные пары соседей от случайных - решить задачу бинарной классификации, где признаки — это слова, а целевой признак — ответ на вопрос: перед нами истинные слова-соседи или нет.\n",
    "  - BERT (англ. Bidirectional Encoder Representations from Transformers) — нейронная сеть от Google. При анализе учитывает контекст не только соседних, но и более дальних слов. В анализе текстов применяют предобученную на большом корпусе модель.\n",
    "  - FastText, GloVe (англ. Global Vectors for Word Representation), ELMO (англ. Embeddings from Language Models), GPT (англ. Generative Pre-Training Transformer) и другие."
   ]
  },
  {
   "cell_type": "code",
   "execution_count": 110,
   "metadata": {},
   "outputs": [
    {
     "name": "stdout",
     "output_type": "stream",
     "text": [
      "Requirement already satisfied: pymystem3 in c:\\users\\victor\\anaconda3\\lib\\site-packages (0.2.0)\n",
      "Requirement already satisfied: requests in c:\\users\\victor\\anaconda3\\lib\\site-packages (from pymystem3) (2.28.1)\n",
      "Requirement already satisfied: idna<4,>=2.5 in c:\\users\\victor\\anaconda3\\lib\\site-packages (from requests->pymystem3) (3.4)\n",
      "Requirement already satisfied: urllib3<1.27,>=1.21.1 in c:\\users\\victor\\anaconda3\\lib\\site-packages (from requests->pymystem3) (1.26.14)\n",
      "Requirement already satisfied: charset-normalizer<3,>=2 in c:\\users\\victor\\anaconda3\\lib\\site-packages (from requests->pymystem3) (2.0.4)\n",
      "Requirement already satisfied: certifi>=2017.4.17 in c:\\users\\victor\\anaconda3\\lib\\site-packages (from requests->pymystem3) (2022.12.7)\n",
      "Note: you may need to restart the kernel to use updated packages.\n",
      "Requirement already satisfied: nltk in c:\\users\\victor\\anaconda3\\lib\\site-packages (3.7)\n",
      "Requirement already satisfied: joblib in c:\\users\\victor\\anaconda3\\lib\\site-packages (from nltk) (1.1.1)\n",
      "Requirement already satisfied: regex>=2021.8.3 in c:\\users\\victor\\anaconda3\\lib\\site-packages (from nltk) (2022.7.9)\n",
      "Requirement already satisfied: click in c:\\users\\victor\\anaconda3\\lib\\site-packages (from nltk) (8.0.4)\n",
      "Requirement already satisfied: tqdm in c:\\users\\victor\\anaconda3\\lib\\site-packages (from nltk) (4.65.0)\n",
      "Requirement already satisfied: colorama in c:\\users\\victor\\anaconda3\\lib\\site-packages (from click->nltk) (0.4.6)\n",
      "Note: you may need to restart the kernel to use updated packages.\n",
      "Requirement already satisfied: torch in c:\\users\\victor\\anaconda3\\lib\\site-packages (2.0.1)Note: you may need to restart the kernel to use updated packages.\n",
      "\n",
      "Requirement already satisfied: torchvision in c:\\users\\victor\\anaconda3\\lib\\site-packages (0.15.2)\n",
      "Requirement already satisfied: torchaudio in c:\\users\\victor\\anaconda3\\lib\\site-packages (2.0.2)\n",
      "Requirement already satisfied: filelock in c:\\users\\victor\\anaconda3\\lib\\site-packages (from torch) (3.9.0)\n",
      "Requirement already satisfied: sympy in c:\\users\\victor\\anaconda3\\lib\\site-packages (from torch) (1.11.1)\n",
      "Requirement already satisfied: jinja2 in c:\\users\\victor\\anaconda3\\lib\\site-packages (from torch) (3.1.2)\n",
      "Requirement already satisfied: typing-extensions in c:\\users\\victor\\anaconda3\\lib\\site-packages (from torch) (4.4.0)\n",
      "Requirement already satisfied: networkx in c:\\users\\victor\\anaconda3\\lib\\site-packages (from torch) (2.8.4)\n",
      "Requirement already satisfied: numpy in c:\\users\\victor\\anaconda3\\lib\\site-packages (from torchvision) (1.21.5)\n",
      "Requirement already satisfied: requests in c:\\users\\victor\\anaconda3\\lib\\site-packages (from torchvision) (2.28.1)\n",
      "Requirement already satisfied: pillow!=8.3.*,>=5.3.0 in c:\\users\\victor\\anaconda3\\lib\\site-packages (from torchvision) (9.4.0)\n",
      "Requirement already satisfied: MarkupSafe>=2.0 in c:\\users\\victor\\anaconda3\\lib\\site-packages (from jinja2->torch) (2.1.1)\n",
      "Requirement already satisfied: urllib3<1.27,>=1.21.1 in c:\\users\\victor\\anaconda3\\lib\\site-packages (from requests->torchvision) (1.26.14)\n",
      "Requirement already satisfied: idna<4,>=2.5 in c:\\users\\victor\\anaconda3\\lib\\site-packages (from requests->torchvision) (3.4)\n",
      "Requirement already satisfied: charset-normalizer<3,>=2 in c:\\users\\victor\\anaconda3\\lib\\site-packages (from requests->torchvision) (2.0.4)\n",
      "Requirement already satisfied: certifi>=2017.4.17 in c:\\users\\victor\\anaconda3\\lib\\site-packages (from requests->torchvision) (2022.12.7)\n",
      "Requirement already satisfied: mpmath>=0.19 in c:\\users\\victor\\anaconda3\\lib\\site-packages (from sympy->torch) (1.2.1)\n",
      "Collecting transformers\n",
      "  Downloading transformers-4.30.2-py3-none-any.whl (7.2 MB)\n",
      "     ---------------------------------------- 0.0/7.2 MB ? eta -:--:--\n",
      "     - -------------------------------------- 0.2/7.2 MB 7.4 MB/s eta 0:00:01\n",
      "     -- ------------------------------------- 0.5/7.2 MB 6.7 MB/s eta 0:00:01\n",
      "     ---- ----------------------------------- 0.9/7.2 MB 7.9 MB/s eta 0:00:01\n",
      "     ------- -------------------------------- 1.3/7.2 MB 8.0 MB/s eta 0:00:01\n",
      "     --------- ------------------------------ 1.7/7.2 MB 9.0 MB/s eta 0:00:01\n",
      "     ----------- ---------------------------- 2.1/7.2 MB 9.7 MB/s eta 0:00:01\n",
      "     -------------- ------------------------- 2.6/7.2 MB 9.8 MB/s eta 0:00:01\n",
      "     ----------------- ---------------------- 3.1/7.2 MB 10.6 MB/s eta 0:00:01\n",
      "     -------------------- ------------------- 3.7/7.2 MB 10.9 MB/s eta 0:00:01\n",
      "     ------------------------ --------------- 4.4/7.2 MB 11.6 MB/s eta 0:00:01\n",
      "     ---------------------------- ----------- 5.0/7.2 MB 11.9 MB/s eta 0:00:01\n",
      "     -------------------------------- ------- 5.8/7.2 MB 12.8 MB/s eta 0:00:01\n",
      "     ------------------------------------- -- 6.7/7.2 MB 13.3 MB/s eta 0:00:01\n",
      "     ---------------------------------------  7.2/7.2 MB 13.9 MB/s eta 0:00:01\n",
      "     ---------------------------------------- 7.2/7.2 MB 12.4 MB/s eta 0:00:00\n",
      "Requirement already satisfied: numpy>=1.17 in c:\\users\\victor\\anaconda3\\lib\\site-packages (from transformers) (1.21.5)\n",
      "Requirement already satisfied: requests in c:\\users\\victor\\anaconda3\\lib\\site-packages (from transformers) (2.28.1)\n",
      "Collecting tokenizers!=0.11.3,<0.14,>=0.11.1\n",
      "  Downloading tokenizers-0.13.3-cp39-cp39-win_amd64.whl (3.5 MB)\n",
      "     ---------------------------------------- 0.0/3.5 MB ? eta -:--:--\n",
      "     ------------ --------------------------- 1.0/3.5 MB 33.4 MB/s eta 0:00:01\n",
      "     ----------------------- ---------------- 2.1/3.5 MB 26.5 MB/s eta 0:00:01\n",
      "     ------------------------------------ --- 3.2/3.5 MB 29.2 MB/s eta 0:00:01\n",
      "     ---------------------------------------  3.5/3.5 MB 27.6 MB/s eta 0:00:01\n",
      "     ---------------------------------------- 3.5/3.5 MB 22.2 MB/s eta 0:00:00\n",
      "Requirement already satisfied: filelock in c:\\users\\victor\\anaconda3\\lib\\site-packages (from transformers) (3.9.0)\n",
      "Requirement already satisfied: packaging>=20.0 in c:\\users\\victor\\anaconda3\\lib\\site-packages (from transformers) (23.0)\n",
      "Requirement already satisfied: regex!=2019.12.17 in c:\\users\\victor\\anaconda3\\lib\\site-packages (from transformers) (2022.7.9)\n",
      "Collecting huggingface-hub<1.0,>=0.14.1\n",
      "  Downloading huggingface_hub-0.15.1-py3-none-any.whl (236 kB)\n",
      "     ---------------------------------------- 0.0/236.8 kB ? eta -:--:--\n",
      "     ---------------------------------------- 236.8/236.8 kB ? eta 0:00:00\n",
      "Collecting safetensors>=0.3.1\n",
      "  Downloading safetensors-0.3.1-cp39-cp39-win_amd64.whl (263 kB)\n",
      "     ---------------------------------------- 0.0/263.9 kB ? eta -:--:--\n",
      "     ------------------------------------- 263.9/263.9 kB 15.9 MB/s eta 0:00:00\n",
      "Requirement already satisfied: tqdm>=4.27 in c:\\users\\victor\\anaconda3\\lib\\site-packages (from transformers) (4.65.0)\n",
      "Requirement already satisfied: pyyaml>=5.1 in c:\\users\\victor\\anaconda3\\lib\\site-packages (from transformers) (6.0)\n",
      "Requirement already satisfied: fsspec in c:\\users\\victor\\anaconda3\\lib\\site-packages (from huggingface-hub<1.0,>=0.14.1->transformers) (2023.3.0)\n",
      "Requirement already satisfied: typing-extensions>=3.7.4.3 in c:\\users\\victor\\anaconda3\\lib\\site-packages (from huggingface-hub<1.0,>=0.14.1->transformers) (4.4.0)\n",
      "Requirement already satisfied: colorama in c:\\users\\victor\\anaconda3\\lib\\site-packages (from tqdm>=4.27->transformers) (0.4.6)\n",
      "Requirement already satisfied: urllib3<1.27,>=1.21.1 in c:\\users\\victor\\anaconda3\\lib\\site-packages (from requests->transformers) (1.26.14)\n",
      "Requirement already satisfied: certifi>=2017.4.17 in c:\\users\\victor\\anaconda3\\lib\\site-packages (from requests->transformers) (2022.12.7)\n",
      "Requirement already satisfied: charset-normalizer<3,>=2 in c:\\users\\victor\\anaconda3\\lib\\site-packages (from requests->transformers) (2.0.4)\n",
      "Requirement already satisfied: idna<4,>=2.5 in c:\\users\\victor\\anaconda3\\lib\\site-packages (from requests->transformers) (3.4)\n",
      "Installing collected packages: tokenizers, safetensors, huggingface-hub, transformers\n",
      "Successfully installed huggingface-hub-0.15.1 safetensors-0.3.1 tokenizers-0.13.3 transformers-4.30.2\n",
      "Note: you may need to restart the kernel to use updated packages.\n"
     ]
    }
   ],
   "source": [
    "# загрузка недостающих библиотек\n",
    "%pip install pymystem3\n",
    "%pip install nltk\n",
    "%pip install torch torchvision torchaudio\n",
    "%pip install transformers"
   ]
  },
  {
   "cell_type": "code",
   "execution_count": 1,
   "metadata": {},
   "outputs": [],
   "source": [
    "# подключение библиотек\n",
    "\n",
    "import pandas as pd\n",
    "\n",
    "# для работы с путями к файлам\n",
    "import os\n",
    "import pathlib\n",
    "# для поиска регулярных выражений\n",
    "import re\n",
    "# для работы с файлами формата .json\n",
    "import json\n",
    "\n",
    "# подключение библиотеки PyTorch для работы с BERT\n",
    "import torch\n",
    "import transformers\n",
    "\n",
    "# библиотека для обработки текста (в данном случае для исключения стоп-слов)\n",
    "import nltk\n",
    "from nltk.corpus import stopwords\n",
    "\n",
    "# библиотека для лемматизации - python-оболочка для морфологического анализатора русского языка MyStem 3.1 от Яндекс\n",
    "from pymystem3 import Mystem\n",
    "\n",
    "# для векторизации текста (создания мешка слов и N-грамм)\n",
    "from sklearn.feature_extraction.text import CountVectorizer\n",
    "# для определения TF-I DF - частоты упоминания слов в тексте\n",
    "from sklearn.feature_extraction.text import TfidfVectorizer\n",
    "# логистическая регрессия\n",
    "from sklearn.linear_model import LogisticRegression"
   ]
  },
  {
   "attachments": {},
   "cell_type": "markdown",
   "metadata": {},
   "source": [
    "### Выделение лемм в тексте"
   ]
  },
  {
   "cell_type": "code",
   "execution_count": 32,
   "metadata": {},
   "outputs": [
    {
     "name": "stdout",
     "output_type": "stream",
     "text": [
      "['@', 'first', '_', 'timee', ' ', 'хоть', ' ', 'я', ' ', 'и', ' ', 'школоть', ', ', 'но', ' ', 'поверять', ', ', 'у', ' ', 'мы', ' ', 'то', ' ', 'же', ' ', 'самый', ' :', 'D', ' ', 'общество', ' ', 'профилирующий', ' ', 'предмет', ' ', 'тип', ')\\n']\n",
      "\n",
      "Список лемм через разделитель: @|first|_|timee| |хоть| |я| |и| |школоть|, |но| |поверять|, |у| |мы| |то| |же| |самый| :|D| |общество| |профилирующий| |предмет| |тип|)\n",
      "\n",
      "Полная информация: [{\"text\": \"@\"}, {\"analysis\": [], \"text\": \"first\"}, {\"text\": \"_\"}, {\"analysis\": [], \"text\": \"timee\"}, {\"text\": \" \"}, {\"analysis\": [{\"lex\": \"хоть\", \"wt\": 0.6706906113, \"gr\": \"PART=\"}], \"text\": \"хоть\"}, {\"text\": \" \"}, {\"analysis\": [{\"lex\": \"я\", \"wt\": 0.9999716281, \"gr\": \"SPRO,ед,1-л=им\"}], \"text\": \"я\"}, {\"text\": \" \"}, {\"analysis\": [{\"lex\": \"и\", \"wt\": 0.9999770357, \"gr\": \"CONJ=\"}], \"text\": \"и\"}, {\"text\": \" \"}, {\"analysis\": [{\"lex\": \"школоть\", \"wt\": 0.3767377563, \"qual\": \"bastard\", \"gr\": \"V,сов,пе=прош,ед,прич,кр,жен,страд\"}], \"text\": \"школота\"}, {\"text\": \", \"}, {\"analysis\": [{\"lex\": \"но\", \"wt\": 0.9998906299, \"gr\": \"CONJ=\"}], \"text\": \"но\"}, {\"text\": \" \"}, {\"analysis\": [{\"lex\": \"поверять\", \"wt\": 0.5937092368, \"gr\": \"V=ед,пов,2-л,сов\"}], \"text\": \"поверь\"}, {\"text\": \", \"}, {\"analysis\": [{\"lex\": \"у\", \"wt\": 0.9993940324, \"gr\": \"PR=\"}], \"text\": \"у\"}, {\"text\": \" \"}, {\"analysis\": [{\"lex\": \"мы\", \"wt\": 1, \"gr\": \"SPRO,мн,1-л=(пр|вин|род)\"}], \"text\": \"нас\"}, {\"text\": \" \"}, {\"analysis\": [{\"lex\": \"то\", \"wt\": 0.2640456945, \"gr\": \"PART=\"}], \"text\": \"то\"}, {\"text\": \" \"}, {\"analysis\": [{\"lex\": \"же\", \"wt\": 0.9351936974, \"gr\": \"PART=\"}], \"text\": \"же\"}, {\"text\": \" \"}, {\"analysis\": [{\"lex\": \"самый\", \"wt\": 0.9979694553, \"gr\": \"APRO=(вин,ед,сред|им,ед,сред)\"}], \"text\": \"самое\"}, {\"text\": \" :\"}, {\"analysis\": [], \"text\": \"D\"}, {\"text\": \" \"}, {\"analysis\": [{\"lex\": \"общество\", \"wt\": 1, \"gr\": \"S,сред,неод=(вин,ед|им,ед)\"}], \"text\": \"общество\"}, {\"text\": \" \"}, {\"analysis\": [{\"lex\": \"профилирующий\", \"wt\": 0.8885903586, \"gr\": \"A=(вин,ед,полн,муж,неод|им,ед,полн,муж)\"}], \"text\": \"профилирующий\"}, {\"text\": \" \"}, {\"analysis\": [{\"lex\": \"предмет\", \"wt\": 1, \"gr\": \"S,муж,неод=(вин,ед|им,ед)\"}], \"text\": \"предмет\"}, {\"text\": \" \"}, {\"analysis\": [{\"lex\": \"тип\", \"wt\": 0.9084259313, \"gr\": \"S,муж,неод=род,ед\"}], \"text\": \"типа\"}, {\"text\": \")\\n\"}]\n"
     ]
    }
   ],
   "source": [
    "text = '@first_timee хоть я и школота, но поверь, у нас то же самое :D общество профилирующий предмет типа)'\n",
    "model = Mystem()\n",
    "lemmas = model.lemmatize(text)\n",
    "print(lemmas)\n",
    "# вывод обнаруженных в тексте лемм через разделитель |\n",
    "print('\\nСписок лемм через разделитель:', '|'.join(lemmas))\n",
    "# распечатка полной информации\n",
    "print ('Полная информация:', json.dumps(model.analyze(text), ensure_ascii=False))"
   ]
  },
  {
   "attachments": {},
   "cell_type": "markdown",
   "metadata": {},
   "source": [
    "### Очистка текста (удаление ненужных символов)"
   ]
  },
  {
   "cell_type": "code",
   "execution_count": 38,
   "metadata": {},
   "outputs": [
    {
     "name": "stdout",
     "output_type": "stream",
     "text": [
      "             хоть я и школота  но поверь  у мы то же самый    общество профилировать предмет типа \n",
      "хоть я и школота но поверь у мы то же самый общество профилировать предмет типа\n"
     ]
    }
   ],
   "source": [
    "text = \"@first_timee хоть я и школота, но поверь, у мы то же самый :d общество профилировать предмет типа)\"\n",
    "# замена в тексте всех символов, кроме русских букв и пробелов на пробелы\n",
    "print(re.sub(r'[^а-яА-ЯёЁ ]', ' ', text))\n",
    "# чтобы убрать лишние пробелы добавляем разделение по пробелам (.split) и обратное соединение через один пробел(.join)\n",
    "print(' '.join(re.sub('[^а-яА-ЯёЁ ]', ' ', text).split()))"
   ]
  },
  {
   "cell_type": "code",
   "execution_count": null,
   "metadata": {},
   "outputs": [],
   "source": [
    "# проверял корректное отображение путей к файлу - не получалось\n",
    "print(os.getcwd())\n",
    "print(type(os.getcwd()))\n",
    "print()\n",
    "print(pathlib.Path.cwd())\n",
    "print(type(pathlib.Path.cwd()))\n",
    "print()\n",
    "# бред какой-то с этими путями!!!\n",
    "print(os.path.abspath('tweets_lemm.csv'))\n",
    "print(type(os.path.abspath('tweets_lemm.csv')))\n",
    "print()\n",
    "print(os.path.dirname(os.path.abspath('tweets_lemm.csv')))\n",
    "print(type(os.path.dirname(os.path.abspath('tweets_lemm.csv'))))"
   ]
  },
  {
   "attachments": {},
   "cell_type": "markdown",
   "metadata": {},
   "source": [
    "### Создание мешка слов"
   ]
  },
  {
   "cell_type": "code",
   "execution_count": 40,
   "metadata": {},
   "outputs": [
    {
     "data": {
      "text/html": [
       "<div>\n",
       "<style scoped>\n",
       "    .dataframe tbody tr th:only-of-type {\n",
       "        vertical-align: middle;\n",
       "    }\n",
       "\n",
       "    .dataframe tbody tr th {\n",
       "        vertical-align: top;\n",
       "    }\n",
       "\n",
       "    .dataframe thead th {\n",
       "        text-align: right;\n",
       "    }\n",
       "</style>\n",
       "<table border=\"1\" class=\"dataframe\">\n",
       "  <thead>\n",
       "    <tr style=\"text-align: right;\">\n",
       "      <th></th>\n",
       "      <th>text</th>\n",
       "      <th>positive</th>\n",
       "      <th>lemm_text</th>\n",
       "    </tr>\n",
       "  </thead>\n",
       "  <tbody>\n",
       "    <tr>\n",
       "      <th>0</th>\n",
       "      <td>@first_timee хоть я и школота, но поверь, у на...</td>\n",
       "      <td>1</td>\n",
       "      <td>хоть я и школотый но поверь у мы то же самый о...</td>\n",
       "    </tr>\n",
       "    <tr>\n",
       "      <th>1</th>\n",
       "      <td>Да, все-таки он немного похож на него. Но мой ...</td>\n",
       "      <td>1</td>\n",
       "      <td>да весь таки он немного похожий на он но мой м...</td>\n",
       "    </tr>\n",
       "    <tr>\n",
       "      <th>2</th>\n",
       "      <td>RT @KatiaCheh: Ну ты идиотка) я испугалась за ...</td>\n",
       "      <td>1</td>\n",
       "      <td>ну ты идиотка я испугаться за ты</td>\n",
       "    </tr>\n",
       "    <tr>\n",
       "      <th>3</th>\n",
       "      <td>RT @digger2912: \"Кто то в углу сидит и погибае...</td>\n",
       "      <td>1</td>\n",
       "      <td>кто то в угол сидеть и погибать от голод а мы ...</td>\n",
       "    </tr>\n",
       "    <tr>\n",
       "      <th>4</th>\n",
       "      <td>@irina_dyshkant Вот что значит страшилка :D\\nН...</td>\n",
       "      <td>1</td>\n",
       "      <td>вот что значит страшилка но блин посмотреть ве...</td>\n",
       "    </tr>\n",
       "  </tbody>\n",
       "</table>\n",
       "</div>"
      ],
      "text/plain": [
       "                                                text  positive  \\\n",
       "0  @first_timee хоть я и школота, но поверь, у на...         1   \n",
       "1  Да, все-таки он немного похож на него. Но мой ...         1   \n",
       "2  RT @KatiaCheh: Ну ты идиотка) я испугалась за ...         1   \n",
       "3  RT @digger2912: \"Кто то в углу сидит и погибае...         1   \n",
       "4  @irina_dyshkant Вот что значит страшилка :D\\nН...         1   \n",
       "\n",
       "                                           lemm_text  \n",
       "0  хоть я и школотый но поверь у мы то же самый о...  \n",
       "1  да весь таки он немного похожий на он но мой м...  \n",
       "2                  ну ты идиотка я испугаться за ты   \n",
       "3  кто то в угол сидеть и погибать от голод а мы ...  \n",
       "4  вот что значит страшилка но блин посмотреть ве...  "
      ]
     },
     "execution_count": 40,
     "metadata": {},
     "output_type": "execute_result"
    }
   ],
   "source": [
    "data = pd.read_csv('datasets\\\\tweets_lemm.csv')\n",
    "data.head()"
   ]
  },
  {
   "cell_type": "code",
   "execution_count": 41,
   "metadata": {},
   "outputs": [
    {
     "data": {
      "text/plain": [
       "array(['хоть я и школотый но поверь у мы то же самый общество профилировать предмет тип ',\n",
       "       'да весь таки он немного похожий на он но мой мальчик весь равно хороший ',\n",
       "       'ну ты идиотка я испугаться за ты ', ...,\n",
       "       'вот и в школа в говно это идти уже надо ',\n",
       "       'тауриэль не грусть обнять ',\n",
       "       'такси везти я на работа раздумывать приплатить чтобы я втащить на пять этаж лифт то нет '],\n",
       "      dtype='<U139')"
      ]
     },
     "execution_count": 41,
     "metadata": {},
     "output_type": "execute_result"
    }
   ],
   "source": [
    "# преобразование столбца датасета 'lemm_text' с леммами слов в список текстов с кодировкой Unicode\n",
    "corpus = data['lemm_text'].values.astype('U')\n",
    "corpus"
   ]
  },
  {
   "attachments": {},
   "cell_type": "markdown",
   "metadata": {},
   "source": [
    "#### 1) мешок слов без удаления стоп-слов"
   ]
  },
  {
   "cell_type": "code",
   "execution_count": 54,
   "metadata": {},
   "outputs": [
    {
     "name": "stdout",
     "output_type": "stream",
     "text": [
      "Размер мешка без удаления стоп-слов: (5000, 9345)\n",
      "[[0 0 0 ... 0 0 0]\n",
      " [0 0 0 ... 0 0 0]\n",
      " [0 0 0 ... 0 0 0]\n",
      " ...\n",
      " [0 0 0 ... 0 0 0]\n",
      " [0 0 0 ... 0 0 0]\n",
      " [0 0 0 ... 0 0 0]]\n",
      "Список уникальных слов в мешке: ['аа' 'ааа' 'аааа' ... 'ёлочка' 'ёооо' 'ёпт']\n"
     ]
    }
   ],
   "source": [
    "# создание мешка слов без удаления стоп-слов\n",
    "count_vect = CountVectorizer()\n",
    "bow = count_vect.fit_transform(corpus)\n",
    "\n",
    "print('Размер мешка без удаления стоп-слов:', bow.shape)\n",
    "# отображение мешка слов в виде матрицы\n",
    "print(bow.toarray())\n",
    "# список уникальных слов в мешке\n",
    "print('Список уникальных слов в мешке:', count_vect.get_feature_names_out())"
   ]
  },
  {
   "attachments": {},
   "cell_type": "markdown",
   "metadata": {},
   "source": [
    "#### 2) Мешок слов с удалением стоп-слов"
   ]
  },
  {
   "cell_type": "code",
   "execution_count": 53,
   "metadata": {},
   "outputs": [
    {
     "name": "stdout",
     "output_type": "stream",
     "text": [
      "Размер мешка с удаленными стоп-словами: (5000, 9248)\n"
     ]
    },
    {
     "name": "stderr",
     "output_type": "stream",
     "text": [
      "[nltk_data] Downloading package stopwords to\n",
      "[nltk_data]     C:\\Users\\Victor\\AppData\\Roaming\\nltk_data...\n",
      "[nltk_data]   Package stopwords is already up-to-date!\n"
     ]
    }
   ],
   "source": [
    "# создание мешка слов с удалением стоп-слов\n",
    "# загрузка списка стоп-слов\n",
    "nltk.download('stopwords')\n",
    "# выделение рускоязычных слов\n",
    "stop_words = stopwords.words('russian')\n",
    "# создание мешка слов с исключенными стоп-словами\n",
    "count_vect = CountVectorizer(stop_words=stop_words)\n",
    "\n",
    "bow = count_vect.fit_transform(corpus)\n",
    "print('Размер мешка с удаленными стоп-словами:', bow.shape)"
   ]
  },
  {
   "attachments": {},
   "cell_type": "markdown",
   "metadata": {},
   "source": [
    "### Оценка важности слов через *TF-IDF* (Term Frequency (*TF*)-Inverse Document Frequency (*IDF*))\n",
    "\n",
    "$\\begin{aligned}\n",
    "&TF\\text-IDF=TF*IDF\\\\\n",
    "&TF=\\frac{t}{N}\\\\\n",
    "&IDF=log{_{10}}{\\left(\\frac{D}{d}\\right)}\\text{ ,}\n",
    "\\end{aligned}$\n",
    "\n",
    "где:  \n",
    "TF — частота упоминаний слова в отдельном тексте;  \n",
    "IDF — частота упоминаний слова во всём корпусе;  \n",
    "t — количество повторений слова в тексте;  \n",
    "n — количество слов в тексте;  \n",
    "D — количество текстов в корпусе;  \n",
    "d — количество текстов в которых встречается слово."
   ]
  },
  {
   "cell_type": "code",
   "execution_count": 106,
   "metadata": {},
   "outputs": [
    {
     "name": "stdout",
     "output_type": "stream",
     "text": [
      "Размер матрицы: (5000, 9248)\n",
      "TF-IDF слов из первого текста: [0.36770615 0.39488367 0.39488367 0.42854609 0.23482263 0.36122125\n",
      " 0.42854609]\n"
     ]
    }
   ],
   "source": [
    "# создание матрицы cо значениями TF-IDF\n",
    "tf_idf = TfidfVectorizer(stop_words=stop_words).fit_transform(corpus)\n",
    "print(\"Размер матрицы:\", tf_idf.shape)\n",
    "print('TF-IDF слов из первого текста:', tf_idf.toarray()[0][tf_idf.toarray()[0] != 0])"
   ]
  },
  {
   "attachments": {},
   "cell_type": "markdown",
   "metadata": {},
   "source": [
    "### Создание N-грамм"
   ]
  },
  {
   "cell_type": "code",
   "execution_count": 56,
   "metadata": {},
   "outputs": [
    {
     "data": {
      "text/plain": [
       "['хоть я и школотый но поверь у мы то же самый общество профилировать предмет тип ',\n",
       " 'да весь таки он немного похожий на он но мой мальчик весь равно хороший ',\n",
       " 'ну ты идиотка я испугаться за ты ',\n",
       " 'кто то в угол сидеть и погибать от голод а мы ещё порция взять хотя уже и так жрать не хотеть ',\n",
       " 'вот что значит страшилка но блин посмотреть весь часть у ты создаться ощущение что автор курить что то ']"
      ]
     },
     "execution_count": 56,
     "metadata": {},
     "output_type": "execute_result"
    }
   ],
   "source": [
    "corpus2 = list(data['lemm_text'])\n",
    "corpus2[:5]"
   ]
  },
  {
   "cell_type": "code",
   "execution_count": 43,
   "metadata": {},
   "outputs": [
    {
     "name": "stdout",
     "output_type": "stream",
     "text": [
      "Размер: (5000, 32701)\n"
     ]
    }
   ],
   "source": [
    "# создание n-грамм из двух слов\n",
    "count_vect = CountVectorizer(ngram_range=(2, 2))\n",
    "n_gramm = count_vect.fit_transform(corpus2)\n",
    "print(\"Размер:\", n_gramm.shape)"
   ]
  },
  {
   "attachments": {},
   "cell_type": "markdown",
   "metadata": {},
   "source": [
    "### Примеры использования\n",
    "\n",
    "#### Пример применения лемматизации"
   ]
  },
  {
   "cell_type": "code",
   "execution_count": null,
   "metadata": {},
   "outputs": [],
   "source": [
    "from pymystem3 import Mystem\n",
    "\n",
    "u_data = data['purpose'].unique()\n",
    "df = pd.DataFrame(data=u_data,columns=['purpose'])\n",
    "\n",
    "m = Mystem()\n",
    "target = df['purpose'].apply(m.lemmatize)\n",
    "\n",
    "def credit_target(target):\n",
    "    if 'образование' in target:\n",
    "        return 'образование'\n",
    "    if 'свадьба' in target:\n",
    "        return 'свадьба'\n",
    "    if 'автомобиль' in target:\n",
    "        return 'автомобиль'\n",
    "    if 'недвижимость' or 'жилье' in target:\n",
    "        return 'недвижимость'\n",
    "    else:\n",
    "        return 'прочее'\n",
    "\n",
    "df['purpose_cat'] = target.apply(credit_target)\n",
    "df"
   ]
  },
  {
   "attachments": {},
   "cell_type": "markdown",
   "metadata": {},
   "source": [
    "#### Пример обработки текста с помощью TF-IDF"
   ]
  },
  {
   "cell_type": "code",
   "execution_count": null,
   "metadata": {},
   "outputs": [
    {
     "name": "stdout",
     "output_type": "stream",
     "text": [
      "<class 'pandas.core.frame.DataFrame'>\n",
      "RangeIndex: 5000 entries, 0 to 4999\n",
      "Data columns (total 3 columns):\n",
      " #   Column     Non-Null Count  Dtype \n",
      "---  ------     --------------  ----- \n",
      " 0   text       5000 non-null   object\n",
      " 1   positive   5000 non-null   int64 \n",
      " 2   lemm_text  5000 non-null   object\n",
      "dtypes: int64(1), object(2)\n",
      "memory usage: 117.3+ KB\n"
     ]
    },
    {
     "data": {
      "text/html": [
       "<div>\n",
       "<style scoped>\n",
       "    .dataframe tbody tr th:only-of-type {\n",
       "        vertical-align: middle;\n",
       "    }\n",
       "\n",
       "    .dataframe tbody tr th {\n",
       "        vertical-align: top;\n",
       "    }\n",
       "\n",
       "    .dataframe thead th {\n",
       "        text-align: right;\n",
       "    }\n",
       "</style>\n",
       "<table border=\"1\" class=\"dataframe\">\n",
       "  <thead>\n",
       "    <tr style=\"text-align: right;\">\n",
       "      <th></th>\n",
       "      <th>text</th>\n",
       "      <th>positive</th>\n",
       "      <th>lemm_text</th>\n",
       "    </tr>\n",
       "  </thead>\n",
       "  <tbody>\n",
       "    <tr>\n",
       "      <th>0</th>\n",
       "      <td>@first_timee хоть я и школота, но поверь, у на...</td>\n",
       "      <td>1</td>\n",
       "      <td>хоть я и школотый но поверь у мы то же самый о...</td>\n",
       "    </tr>\n",
       "    <tr>\n",
       "      <th>1</th>\n",
       "      <td>Да, все-таки он немного похож на него. Но мой ...</td>\n",
       "      <td>1</td>\n",
       "      <td>да весь таки он немного похожий на он но мой м...</td>\n",
       "    </tr>\n",
       "    <tr>\n",
       "      <th>2</th>\n",
       "      <td>RT @KatiaCheh: Ну ты идиотка) я испугалась за ...</td>\n",
       "      <td>1</td>\n",
       "      <td>ну ты идиотка я испугаться за ты</td>\n",
       "    </tr>\n",
       "    <tr>\n",
       "      <th>3</th>\n",
       "      <td>RT @digger2912: \"Кто то в углу сидит и погибае...</td>\n",
       "      <td>1</td>\n",
       "      <td>кто то в угол сидеть и погибать от голод а мы ...</td>\n",
       "    </tr>\n",
       "    <tr>\n",
       "      <th>4</th>\n",
       "      <td>@irina_dyshkant Вот что значит страшилка :D\\r\\...</td>\n",
       "      <td>1</td>\n",
       "      <td>вот что значит страшилка но блин посмотреть ве...</td>\n",
       "    </tr>\n",
       "  </tbody>\n",
       "</table>\n",
       "</div>"
      ],
      "text/plain": [
       "                                                text  positive  \\\n",
       "0  @first_timee хоть я и школота, но поверь, у на...         1   \n",
       "1  Да, все-таки он немного похож на него. Но мой ...         1   \n",
       "2  RT @KatiaCheh: Ну ты идиотка) я испугалась за ...         1   \n",
       "3  RT @digger2912: \"Кто то в углу сидит и погибае...         1   \n",
       "4  @irina_dyshkant Вот что значит страшилка :D\\r\\...         1   \n",
       "\n",
       "                                           lemm_text  \n",
       "0  хоть я и школотый но поверь у мы то же самый о...  \n",
       "1  да весь таки он немного похожий на он но мой м...  \n",
       "2                  ну ты идиотка я испугаться за ты   \n",
       "3  кто то в угол сидеть и погибать от голод а мы ...  \n",
       "4  вот что значит страшилка но блин посмотреть ве...  "
      ]
     },
     "metadata": {},
     "output_type": "display_data"
    },
    {
     "name": "stdout",
     "output_type": "stream",
     "text": [
      "<class 'pandas.core.frame.DataFrame'>\n",
      "RangeIndex: 3000 entries, 0 to 2999\n",
      "Data columns (total 2 columns):\n",
      " #   Column     Non-Null Count  Dtype \n",
      "---  ------     --------------  ----- \n",
      " 0   text       3000 non-null   object\n",
      " 1   lemm_text  3000 non-null   object\n",
      "dtypes: object(2)\n",
      "memory usage: 47.0+ KB\n"
     ]
    },
    {
     "data": {
      "text/html": [
       "<div>\n",
       "<style scoped>\n",
       "    .dataframe tbody tr th:only-of-type {\n",
       "        vertical-align: middle;\n",
       "    }\n",
       "\n",
       "    .dataframe tbody tr th {\n",
       "        vertical-align: top;\n",
       "    }\n",
       "\n",
       "    .dataframe thead th {\n",
       "        text-align: right;\n",
       "    }\n",
       "</style>\n",
       "<table border=\"1\" class=\"dataframe\">\n",
       "  <thead>\n",
       "    <tr style=\"text-align: right;\">\n",
       "      <th></th>\n",
       "      <th>text</th>\n",
       "      <th>lemm_text</th>\n",
       "    </tr>\n",
       "  </thead>\n",
       "  <tbody>\n",
       "    <tr>\n",
       "      <th>0</th>\n",
       "      <td>RT @tiredfennel: если криса так интересуют дет...</td>\n",
       "      <td>если крис так интересовать ребёнок то либо они...</td>\n",
       "    </tr>\n",
       "    <tr>\n",
       "      <th>1</th>\n",
       "      <td>@xsealord по 200 руб. в месяц можно разместить...</td>\n",
       "      <td>по рубль в месяц можно разместить ссылка на те...</td>\n",
       "    </tr>\n",
       "    <tr>\n",
       "      <th>2</th>\n",
       "      <td>@haosANDlaw @Etishkindyx учитывая, что сейчас ...</td>\n",
       "      <td>учитывать что сейчас преобладать один половина...</td>\n",
       "    </tr>\n",
       "    <tr>\n",
       "      <th>3</th>\n",
       "      <td>Товарищ    :) Но я никак не могу отдельно не о...</td>\n",
       "      <td>товарищ но я никак не мочь отдельно не отметит...</td>\n",
       "    </tr>\n",
       "    <tr>\n",
       "      <th>4</th>\n",
       "      <td>RT @BodyaNick: Квн был отличный !) Оооочень по...</td>\n",
       "      <td>квн быть отличный оооочень понравиться женский...</td>\n",
       "    </tr>\n",
       "  </tbody>\n",
       "</table>\n",
       "</div>"
      ],
      "text/plain": [
       "                                                text  \\\n",
       "0  RT @tiredfennel: если криса так интересуют дет...   \n",
       "1  @xsealord по 200 руб. в месяц можно разместить...   \n",
       "2  @haosANDlaw @Etishkindyx учитывая, что сейчас ...   \n",
       "3  Товарищ    :) Но я никак не могу отдельно не о...   \n",
       "4  RT @BodyaNick: Квн был отличный !) Оооочень по...   \n",
       "\n",
       "                                           lemm_text  \n",
       "0  если крис так интересовать ребёнок то либо они...  \n",
       "1  по рубль в месяц можно разместить ссылка на те...  \n",
       "2  учитывать что сейчас преобладать один половина...  \n",
       "3  товарищ но я никак не мочь отдельно не отметит...  \n",
       "4  квн быть отличный оооочень понравиться женский...  "
      ]
     },
     "metadata": {},
     "output_type": "display_data"
    }
   ],
   "source": [
    "# Задание:\n",
    "# с помощью логистической регрессии предсказать настроение твитов в тестовой выборке\n",
    "\n",
    "# загрузка выборок\n",
    "train = pd.read_csv('datasets\\\\tweets_lemm_train.csv')\n",
    "test = pd.read_csv('datasets\\\\tweets_lemm_test.csv')\n",
    "train.info()\n",
    "display(train.head())\n",
    "test.info()\n",
    "display(test.head())"
   ]
  },
  {
   "cell_type": "code",
   "execution_count": null,
   "metadata": {},
   "outputs": [],
   "source": [
    "# обучение модели расчета TF-IDF на обучающей выборке\n",
    "corpus_train = train['lemm_text'].values.astype('U')\n",
    "mod_tf_idf = TfidfVectorizer(stop_words=stop_words).fit(corpus_train)"
   ]
  },
  {
   "cell_type": "code",
   "execution_count": null,
   "metadata": {},
   "outputs": [
    {
     "data": {
      "text/plain": [
       "(5000, 9737)"
      ]
     },
     "execution_count": 105,
     "metadata": {},
     "output_type": "execute_result"
    }
   ],
   "source": [
    "# получение предсказаний TF-IDF на обучающей выборке, \n",
    "# которые станут признаками для логистической регрессии на обучающей выборке\n",
    "features_train = mod_tf_idf.transform(corpus_train)\n",
    "features_train.shape"
   ]
  },
  {
   "cell_type": "code",
   "execution_count": null,
   "metadata": {},
   "outputs": [
    {
     "data": {
      "text/plain": [
       "(3000, 9737)"
      ]
     },
     "execution_count": 106,
     "metadata": {},
     "output_type": "execute_result"
    }
   ],
   "source": [
    "# получение предсказаний TF-IDF на тестовой выборке, \n",
    "# которые станут признаками для логистической регрессии на тестовой выборке\n",
    "corpus_test = test['lemm_text'].values.astype('U')\n",
    "features_test = mod_tf_idf.transform(corpus_test)\n",
    "features_test.shape"
   ]
  },
  {
   "cell_type": "code",
   "execution_count": null,
   "metadata": {},
   "outputs": [
    {
     "data": {
      "text/plain": [
       "(5000,)"
      ]
     },
     "execution_count": 107,
     "metadata": {},
     "output_type": "execute_result"
    }
   ],
   "source": [
    "# выделение целевого признака из обучающей выборки\n",
    "target_train = train['positive'].values\n",
    "target_train.shape"
   ]
  },
  {
   "cell_type": "code",
   "execution_count": null,
   "metadata": {},
   "outputs": [
    {
     "data": {
      "text/html": [
       "<style>#sk-container-id-1 {color: black;background-color: white;}#sk-container-id-1 pre{padding: 0;}#sk-container-id-1 div.sk-toggleable {background-color: white;}#sk-container-id-1 label.sk-toggleable__label {cursor: pointer;display: block;width: 100%;margin-bottom: 0;padding: 0.3em;box-sizing: border-box;text-align: center;}#sk-container-id-1 label.sk-toggleable__label-arrow:before {content: \"▸\";float: left;margin-right: 0.25em;color: #696969;}#sk-container-id-1 label.sk-toggleable__label-arrow:hover:before {color: black;}#sk-container-id-1 div.sk-estimator:hover label.sk-toggleable__label-arrow:before {color: black;}#sk-container-id-1 div.sk-toggleable__content {max-height: 0;max-width: 0;overflow: hidden;text-align: left;background-color: #f0f8ff;}#sk-container-id-1 div.sk-toggleable__content pre {margin: 0.2em;color: black;border-radius: 0.25em;background-color: #f0f8ff;}#sk-container-id-1 input.sk-toggleable__control:checked~div.sk-toggleable__content {max-height: 200px;max-width: 100%;overflow: auto;}#sk-container-id-1 input.sk-toggleable__control:checked~label.sk-toggleable__label-arrow:before {content: \"▾\";}#sk-container-id-1 div.sk-estimator input.sk-toggleable__control:checked~label.sk-toggleable__label {background-color: #d4ebff;}#sk-container-id-1 div.sk-label input.sk-toggleable__control:checked~label.sk-toggleable__label {background-color: #d4ebff;}#sk-container-id-1 input.sk-hidden--visually {border: 0;clip: rect(1px 1px 1px 1px);clip: rect(1px, 1px, 1px, 1px);height: 1px;margin: -1px;overflow: hidden;padding: 0;position: absolute;width: 1px;}#sk-container-id-1 div.sk-estimator {font-family: monospace;background-color: #f0f8ff;border: 1px dotted black;border-radius: 0.25em;box-sizing: border-box;margin-bottom: 0.5em;}#sk-container-id-1 div.sk-estimator:hover {background-color: #d4ebff;}#sk-container-id-1 div.sk-parallel-item::after {content: \"\";width: 100%;border-bottom: 1px solid gray;flex-grow: 1;}#sk-container-id-1 div.sk-label:hover label.sk-toggleable__label {background-color: #d4ebff;}#sk-container-id-1 div.sk-serial::before {content: \"\";position: absolute;border-left: 1px solid gray;box-sizing: border-box;top: 0;bottom: 0;left: 50%;z-index: 0;}#sk-container-id-1 div.sk-serial {display: flex;flex-direction: column;align-items: center;background-color: white;padding-right: 0.2em;padding-left: 0.2em;position: relative;}#sk-container-id-1 div.sk-item {position: relative;z-index: 1;}#sk-container-id-1 div.sk-parallel {display: flex;align-items: stretch;justify-content: center;background-color: white;position: relative;}#sk-container-id-1 div.sk-item::before, #sk-container-id-1 div.sk-parallel-item::before {content: \"\";position: absolute;border-left: 1px solid gray;box-sizing: border-box;top: 0;bottom: 0;left: 50%;z-index: -1;}#sk-container-id-1 div.sk-parallel-item {display: flex;flex-direction: column;z-index: 1;position: relative;background-color: white;}#sk-container-id-1 div.sk-parallel-item:first-child::after {align-self: flex-end;width: 50%;}#sk-container-id-1 div.sk-parallel-item:last-child::after {align-self: flex-start;width: 50%;}#sk-container-id-1 div.sk-parallel-item:only-child::after {width: 0;}#sk-container-id-1 div.sk-dashed-wrapped {border: 1px dashed gray;margin: 0 0.4em 0.5em 0.4em;box-sizing: border-box;padding-bottom: 0.4em;background-color: white;}#sk-container-id-1 div.sk-label label {font-family: monospace;font-weight: bold;display: inline-block;line-height: 1.2em;}#sk-container-id-1 div.sk-label-container {text-align: center;}#sk-container-id-1 div.sk-container {/* jupyter's `normalize.less` sets `[hidden] { display: none; }` but bootstrap.min.css set `[hidden] { display: none !important; }` so we also need the `!important` here to be able to override the default hidden behavior on the sphinx rendered scikit-learn.org. See: https://github.com/scikit-learn/scikit-learn/issues/21755 */display: inline-block !important;position: relative;}#sk-container-id-1 div.sk-text-repr-fallback {display: none;}</style><div id=\"sk-container-id-1\" class=\"sk-top-container\"><div class=\"sk-text-repr-fallback\"><pre>LogisticRegression(random_state=12345)</pre><b>In a Jupyter environment, please rerun this cell to show the HTML representation or trust the notebook. <br />On GitHub, the HTML representation is unable to render, please try loading this page with nbviewer.org.</b></div><div class=\"sk-container\" hidden><div class=\"sk-item\"><div class=\"sk-estimator sk-toggleable\"><input class=\"sk-toggleable__control sk-hidden--visually\" id=\"sk-estimator-id-1\" type=\"checkbox\" checked><label for=\"sk-estimator-id-1\" class=\"sk-toggleable__label sk-toggleable__label-arrow\">LogisticRegression</label><div class=\"sk-toggleable__content\"><pre>LogisticRegression(random_state=12345)</pre></div></div></div></div></div>"
      ],
      "text/plain": [
       "LogisticRegression(random_state=12345)"
      ]
     },
     "execution_count": 109,
     "metadata": {},
     "output_type": "execute_result"
    }
   ],
   "source": [
    "# обучение модели логистической регрессии на обучающей выборке\n",
    "mod_lg = LogisticRegression(random_state=12345)\n",
    "mod_lg.fit(features_train, target_train)"
   ]
  },
  {
   "cell_type": "code",
   "execution_count": null,
   "metadata": {},
   "outputs": [
    {
     "name": "stdout",
     "output_type": "stream",
     "text": [
      "(3000,)\n",
      "<class 'pandas.core.frame.DataFrame'>\n",
      "RangeIndex: 3000 entries, 0 to 2999\n",
      "Data columns (total 3 columns):\n",
      " #   Column     Non-Null Count  Dtype \n",
      "---  ------     --------------  ----- \n",
      " 0   text       3000 non-null   object\n",
      " 1   lemm_text  3000 non-null   object\n",
      " 2   positive   3000 non-null   int64 \n",
      "dtypes: int64(1), object(2)\n",
      "memory usage: 70.4+ KB\n"
     ]
    },
    {
     "data": {
      "text/html": [
       "<div>\n",
       "<style scoped>\n",
       "    .dataframe tbody tr th:only-of-type {\n",
       "        vertical-align: middle;\n",
       "    }\n",
       "\n",
       "    .dataframe tbody tr th {\n",
       "        vertical-align: top;\n",
       "    }\n",
       "\n",
       "    .dataframe thead th {\n",
       "        text-align: right;\n",
       "    }\n",
       "</style>\n",
       "<table border=\"1\" class=\"dataframe\">\n",
       "  <thead>\n",
       "    <tr style=\"text-align: right;\">\n",
       "      <th></th>\n",
       "      <th>text</th>\n",
       "      <th>lemm_text</th>\n",
       "      <th>positive</th>\n",
       "    </tr>\n",
       "  </thead>\n",
       "  <tbody>\n",
       "    <tr>\n",
       "      <th>0</th>\n",
       "      <td>RT @tiredfennel: если криса так интересуют дет...</td>\n",
       "      <td>если крис так интересовать ребёнок то либо они...</td>\n",
       "      <td>1</td>\n",
       "    </tr>\n",
       "    <tr>\n",
       "      <th>1</th>\n",
       "      <td>@xsealord по 200 руб. в месяц можно разместить...</td>\n",
       "      <td>по рубль в месяц можно разместить ссылка на те...</td>\n",
       "      <td>0</td>\n",
       "    </tr>\n",
       "    <tr>\n",
       "      <th>2</th>\n",
       "      <td>@haosANDlaw @Etishkindyx учитывая, что сейчас ...</td>\n",
       "      <td>учитывать что сейчас преобладать один половина...</td>\n",
       "      <td>0</td>\n",
       "    </tr>\n",
       "    <tr>\n",
       "      <th>3</th>\n",
       "      <td>Товарищ    :) Но я никак не могу отдельно не о...</td>\n",
       "      <td>товарищ но я никак не мочь отдельно не отметит...</td>\n",
       "      <td>0</td>\n",
       "    </tr>\n",
       "    <tr>\n",
       "      <th>4</th>\n",
       "      <td>RT @BodyaNick: Квн был отличный !) Оооочень по...</td>\n",
       "      <td>квн быть отличный оооочень понравиться женский...</td>\n",
       "      <td>1</td>\n",
       "    </tr>\n",
       "  </tbody>\n",
       "</table>\n",
       "</div>"
      ],
      "text/plain": [
       "                                                text  \\\n",
       "0  RT @tiredfennel: если криса так интересуют дет...   \n",
       "1  @xsealord по 200 руб. в месяц можно разместить...   \n",
       "2  @haosANDlaw @Etishkindyx учитывая, что сейчас ...   \n",
       "3  Товарищ    :) Но я никак не могу отдельно не о...   \n",
       "4  RT @BodyaNick: Квн был отличный !) Оооочень по...   \n",
       "\n",
       "                                           lemm_text  positive  \n",
       "0  если крис так интересовать ребёнок то либо они...         1  \n",
       "1  по рубль в месяц можно разместить ссылка на те...         0  \n",
       "2  учитывать что сейчас преобладать один половина...         0  \n",
       "3  товарищ но я никак не мочь отдельно не отметит...         0  \n",
       "4  квн быть отличный оооочень понравиться женский...         1  "
      ]
     },
     "execution_count": 113,
     "metadata": {},
     "output_type": "execute_result"
    }
   ],
   "source": [
    "# получение предсказаний логистической регрессии на тестовой выборке,\n",
    "# сохранение их в отдельном столбце тестовой выборки\n",
    "predict = mod_lg.predict(features_test)\n",
    "print(predict.shape)\n",
    "test['positive'] = predict\n",
    "test.info()\n",
    "test.head()"
   ]
  },
  {
   "cell_type": "code",
   "execution_count": null,
   "metadata": {},
   "outputs": [],
   "source": [
    "# экспорт предсказаний в файл\n",
    "test['positive'].to_csv('datasets\\predictions', index=False)\n",
    "\n",
    "# конец задания\n",
    "# -----------------------"
   ]
  },
  {
   "attachments": {},
   "cell_type": "markdown",
   "metadata": {},
   "source": [
    "#### Пример использования pipeline из transformers с предобученной моделью с Hugging Face"
   ]
  },
  {
   "cell_type": "code",
   "execution_count": 10,
   "metadata": {},
   "outputs": [
    {
     "data": {
      "text/plain": [
       "[{'label': 'neutral', 'score': 0.9997156262397766},\n",
       " {'label': 'toxic', 'score': 0.985331654548645}]"
      ]
     },
     "execution_count": 10,
     "metadata": {},
     "output_type": "execute_result"
    }
   ],
   "source": [
    "from transformers import pipeline\n",
    "\n",
    "clf = pipeline(\n",
    "    task = 'sentiment-analysis', \n",
    "    model = 'SkolkovoInstitute/russian_toxicity_classifier')\n",
    "\n",
    "text = ['у нас есть',\n",
    "    \t'Как минимум два малолетних дегенерата в треде, мда.']\n",
    "\n",
    "clf(text) # возвращает наиболее вероятный класс\n",
    "# clf(text, top_k=None) # возвращает вероятности всех классов\n",
    "\n",
    "# вариант генератора с yield для построчной загрузки в память, когда её не хватает для больших объемов данных\n",
    "#def data(text):\n",
    "#    for row in text:\n",
    "#        yield row\n",
    "#for out in clf(data(text)):\n",
    "#    print(out)"
   ]
  },
  {
   "attachments": {},
   "cell_type": "markdown",
   "metadata": {},
   "source": [
    "#### Обработка текста в помощью ruBERT\n",
    "\n",
    "Нужно научиться определять, какие твиты негативной тональности, какие позитивной.\n",
    "\n",
    "Для решения этой задачи используется фреймворк PyTorch, которая применяется в задачах обработки естественного текста (NLP) и компьютерного зрения, в частности при работе с моделями типа BERT, которые находятся в библиотеке transformers. Для обучения применяется модель RuBERT из открытого репозитория DeepPavlov, обученная на разговорном русскоязычном корпусе."
   ]
  }
 ],
 "metadata": {
  "kernelspec": {
   "display_name": "Python 3.8.10 64-bit",
   "language": "python",
   "name": "python3"
  },
  "language_info": {
   "codemirror_mode": {
    "name": "ipython",
    "version": 3
   },
   "file_extension": ".py",
   "mimetype": "text/x-python",
   "name": "python",
   "nbconvert_exporter": "python",
   "pygments_lexer": "ipython3",
   "version": "3.9.13"
  },
  "orig_nbformat": 4,
  "vscode": {
   "interpreter": {
    "hash": "998d7648dd755371a7ba8fe881a42807a5528e9c57c793fb17dd78daafcc3440"
   }
  }
 },
 "nbformat": 4,
 "nbformat_minor": 2
}
